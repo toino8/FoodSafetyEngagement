{
 "cells": [
  {
   "cell_type": "code",
   "execution_count": 15,
   "metadata": {},
   "outputs": [
    {
     "ename": "NameError",
     "evalue": "name 'tweets_data_en_2024_0' is not defined",
     "output_type": "error",
     "traceback": [
      "\u001b[1;31m---------------------------------------------------------------------------\u001b[0m",
      "\u001b[1;31mNameError\u001b[0m                                 Traceback (most recent call last)",
      "Cell \u001b[1;32mIn[15], line 20\u001b[0m\n\u001b[0;32m     17\u001b[0m         \u001b[38;5;28;01mraise\u001b[39;00m \u001b[38;5;167;01mFileNotFoundError\u001b[39;00m(\u001b[38;5;124mf\u001b[39m\u001b[38;5;124m\"\u001b[39m\u001b[38;5;124mFile not found: \u001b[39m\u001b[38;5;132;01m{\u001b[39;00mfilename\u001b[38;5;132;01m}\u001b[39;00m\u001b[38;5;124m\"\u001b[39m)\n\u001b[0;32m     19\u001b[0m     tweets_data_en_2024_0 \u001b[38;5;241m=\u001b[39m open_file(\u001b[38;5;124m'\u001b[39m\u001b[38;5;124m2024\u001b[39m\u001b[38;5;124m'\u001b[39m,\u001b[38;5;124m'\u001b[39m\u001b[38;5;124men\u001b[39m\u001b[38;5;124m'\u001b[39m,\u001b[38;5;28;01mNone\u001b[39;00m)\n\u001b[1;32m---> 20\u001b[0m \u001b[38;5;28mprint\u001b[39m(\u001b[43mtweets_data_en_2024_0\u001b[49m[\u001b[38;5;241m0\u001b[39m:\u001b[38;5;241m5\u001b[39m])\n",
      "\u001b[1;31mNameError\u001b[0m: name 'tweets_data_en_2024_0' is not defined"
     ]
    }
   ],
   "source": [
    "import os\n",
    "def open_file(year,language,OG):\n",
    "    current_dir = os.path.dirname(__file__) \n",
    "    data_dir = os.path.join(current_dir, \"Data\") \n",
    "\n",
    "    filename = f\"{data_dir}/tweets_data_{language}_{year}\"\n",
    "    if OG:\n",
    "        filename += \"_1\" \n",
    "    elif OG == False:\n",
    "        filename += \"_2\"\n",
    "\n",
    "    try:\n",
    "        with open(filename+'.txt', 'r') as file:\n",
    "            data = file.readlines()\n",
    "        return data\n",
    "    except FileNotFoundError:\n",
    "        raise FileNotFoundError(f\"File not found: {filename}\")\n",
    "    \n",
    "    tweets_data_en_2024_0 = open_file('2024','en',None)\n",
    "print(tweets_data_en_2024_0[0:5])\n",
    "   "
   ]
  },
  {
   "cell_type": "code",
   "execution_count": 14,
   "metadata": {},
   "outputs": [
    {
     "ename": "NameError",
     "evalue": "name '__file__' is not defined",
     "output_type": "error",
     "traceback": [
      "\u001b[1;31m---------------------------------------------------------------------------\u001b[0m",
      "\u001b[1;31mNameError\u001b[0m                                 Traceback (most recent call last)",
      "Cell \u001b[1;32mIn[14], line 1\u001b[0m\n\u001b[1;32m----> 1\u001b[0m tweets_data_en_2024_0 \u001b[38;5;241m=\u001b[39m \u001b[43mopen_file\u001b[49m\u001b[43m(\u001b[49m\u001b[38;5;124;43m'\u001b[39;49m\u001b[38;5;124;43m2024\u001b[39;49m\u001b[38;5;124;43m'\u001b[39;49m\u001b[43m,\u001b[49m\u001b[38;5;124;43m'\u001b[39;49m\u001b[38;5;124;43men\u001b[39;49m\u001b[38;5;124;43m'\u001b[39;49m\u001b[43m,\u001b[49m\u001b[38;5;28;43;01mNone\u001b[39;49;00m\u001b[43m)\u001b[49m\n\u001b[0;32m      2\u001b[0m \u001b[38;5;28mprint\u001b[39m(tweets_data_en_2024_0[\u001b[38;5;241m0\u001b[39m:\u001b[38;5;241m5\u001b[39m])\n",
      "Cell \u001b[1;32mIn[13], line 3\u001b[0m, in \u001b[0;36mopen_file\u001b[1;34m(year, language, OG)\u001b[0m\n\u001b[0;32m      2\u001b[0m \u001b[38;5;28;01mdef\u001b[39;00m \u001b[38;5;21mopen_file\u001b[39m(year,language,OG):\n\u001b[1;32m----> 3\u001b[0m     current_dir \u001b[38;5;241m=\u001b[39m os\u001b[38;5;241m.\u001b[39mpath\u001b[38;5;241m.\u001b[39mdirname(\u001b[38;5;18;43m__file__\u001b[39;49m) \n\u001b[0;32m      4\u001b[0m     data_dir \u001b[38;5;241m=\u001b[39m os\u001b[38;5;241m.\u001b[39mpath\u001b[38;5;241m.\u001b[39mjoin(current_dir, \u001b[38;5;124m\"\u001b[39m\u001b[38;5;124mData\u001b[39m\u001b[38;5;124m\"\u001b[39m) \n\u001b[0;32m      6\u001b[0m     filename \u001b[38;5;241m=\u001b[39m \u001b[38;5;124mf\u001b[39m\u001b[38;5;124m\"\u001b[39m\u001b[38;5;132;01m{\u001b[39;00mdata_dir\u001b[38;5;132;01m}\u001b[39;00m\u001b[38;5;124m/tweets_data_\u001b[39m\u001b[38;5;132;01m{\u001b[39;00mlanguage\u001b[38;5;132;01m}\u001b[39;00m\u001b[38;5;124m_\u001b[39m\u001b[38;5;132;01m{\u001b[39;00myear\u001b[38;5;132;01m}\u001b[39;00m\u001b[38;5;124m\"\u001b[39m\n",
      "\u001b[1;31mNameError\u001b[0m: name '__file__' is not defined"
     ]
    }
   ],
   "source": []
  },
  {
   "cell_type": "code",
   "execution_count": null,
   "metadata": {},
   "outputs": [],
   "source": [
    "import nltk\n",
    "from nltk.corpus import stopwords\n",
    "import matplotlib.pyplot as plt\n",
    "from wordcloud import WordCloud\n",
    "import re\n",
    "from translate import Translator\n",
    "\n",
    "# Téléchargement des mots vides pour la première exécution\n",
    "nltk.download('stopwords')\n",
    "\n",
    "def clean_word(word):\n",
    "    \"\"\"Nettoyer les mots en retirant la ponctuation.\"\"\"\n",
    "    return re.sub(r'[^\\w\\s]', '', word).lower()\n",
    "\n",
    "# Charger les mots vides pour le français, l'espagnol et l'anglais\n",
    "stop_words_fr = set(stopwords.words('french'))\n",
    "stop_words_es = set(stopwords.words('spanish'))\n",
    "stop_words_en = set(stopwords.words('english'))\n",
    "\n",
    "# Mots vides personnalisés\n",
    "stop_words_personal = '''food waste climate change climat climatechange https http com www twitter pic status co amp www youtube foodwaste\n",
    "climatique changement climatique alimentaire déchets alimentaires comida residuos cambio climático alimentación'''\n",
    "stop_words_personal_set = set(stop_words_personal.split())\n",
    "\n",
    "# Fusionner tous les ensembles de mots vides pour obtenir un ensemble unique\n",
    "stop_words = stop_words_personal_set.union(stop_words_fr).union(stop_words_es).union(stop_words_en)\n",
    "\n",
    "    \n",
    "    \n",
    "# Ajouter une colonne 'year' au DataFrame\n",
    "final_dataframe_foodwaste['year'] = final_dataframe_foodwaste['date'].apply(lambda x: x.split('-')[0])\n",
    "\n",
    "# Dictionnaire pour stocker la fréquence des mots pour chaque année\n",
    "word_freq_year = {}\n",
    "\n",
    "# Boucle sur chaque tweet pour calculer la fréquence des mots par année\n",
    "for index, row in final_dataframe_foodwaste.iterrows():\n",
    "    tweet = row['tweet']\n",
    "    year = row['year']\n",
    "    \n",
    "    if year not in word_freq_year:\n",
    "        word_freq_year[year] = {}\n",
    "    \n",
    "    words = tweet.split()\n",
    "    for word in words:\n",
    "        word = clean_word(word)\n",
    "        if word not in stop_words and word != '':\n",
    "            word_freq_year[year][word] = word_freq_year[year].get(word, 0) + 1\n",
    "\n",
    "# Créer des nuages de mots pour chaque année\n",
    "for year in word_freq_year:\n",
    "    wordcloud = WordCloud(width=800, height=400, background_color='white').generate_from_frequencies(word_freq_year[year])\n",
    "    plt.figure(figsize=(10, 5))\n",
    "    plt.title(f\"Word Cloud for Year {year}\")\n",
    "    plt.imshow(wordcloud, interpolation='bilinear')\n",
    "    plt.axis('off')\n",
    "    plt.show()\n"
   ]
  },
  {
   "cell_type": "code",
   "execution_count": null,
   "metadata": {},
   "outputs": [],
   "source": []
  },
  {
   "cell_type": "code",
   "execution_count": null,
   "metadata": {},
   "outputs": [],
   "source": []
  }
 ],
 "metadata": {
  "kernelspec": {
   "display_name": "Stage",
   "language": "python",
   "name": "python3"
  },
  "language_info": {
   "codemirror_mode": {
    "name": "ipython",
    "version": 3
   },
   "file_extension": ".py",
   "mimetype": "text/x-python",
   "name": "python",
   "nbconvert_exporter": "python",
   "pygments_lexer": "ipython3",
   "version": "3.12.3"
  }
 },
 "nbformat": 4,
 "nbformat_minor": 2
}
